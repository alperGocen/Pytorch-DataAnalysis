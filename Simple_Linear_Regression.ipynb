{
 "cells": [
  {
   "cell_type": "code",
   "execution_count": 117,
   "metadata": {},
   "outputs": [],
   "source": [
    "import torch \n",
    "from torch.autograd import Variable\n",
    "import numpy as np\n",
    "import matplotlib.pyplot as plt\n",
    "import torch.nn as nn"
   ]
  },
  {
   "cell_type": "code",
   "execution_count": 118,
   "metadata": {},
   "outputs": [
    {
     "data": {
      "text/plain": [
       "(11,)"
      ]
     },
     "execution_count": 118,
     "metadata": {},
     "output_type": "execute_result"
    }
   ],
   "source": [
    "x_values = [i for i in range(11)]\n",
    "x_train = np.array(x_values, dtype = np.float32)\n",
    "x_train.shape\n"
   ]
  },
  {
   "cell_type": "code",
   "execution_count": 119,
   "metadata": {},
   "outputs": [
    {
     "data": {
      "text/plain": [
       "(11, 1)"
      ]
     },
     "execution_count": 119,
     "metadata": {},
     "output_type": "execute_result"
    }
   ],
   "source": [
    "x_train = x_train.reshape(-1,1)\n",
    "x_train.shape"
   ]
  },
  {
   "cell_type": "code",
   "execution_count": 120,
   "metadata": {},
   "outputs": [
    {
     "data": {
      "text/plain": [
       "[1, 4, 9, 16, 25, 36, 49, 64, 81, 100, 121]"
      ]
     },
     "execution_count": 120,
     "metadata": {},
     "output_type": "execute_result"
    }
   ],
   "source": [
    "y_values = [i**2+ 2*i+1 for i in x_values]\n",
    "y_values"
   ]
  },
  {
   "cell_type": "code",
   "execution_count": 121,
   "metadata": {},
   "outputs": [
    {
     "data": {
      "text/plain": [
       "(11,)"
      ]
     },
     "execution_count": 121,
     "metadata": {},
     "output_type": "execute_result"
    }
   ],
   "source": [
    "y_train = np.array(y_values, dtype = np.float32)\n",
    "y_train.shape"
   ]
  },
  {
   "cell_type": "code",
   "execution_count": 122,
   "metadata": {},
   "outputs": [
    {
     "data": {
      "text/plain": [
       "(11, 1)"
      ]
     },
     "execution_count": 122,
     "metadata": {},
     "output_type": "execute_result"
    }
   ],
   "source": [
    "y_train = y_train.reshape(-1,1)\n",
    "y_train.shape"
   ]
  },
  {
   "cell_type": "code",
   "execution_count": 123,
   "metadata": {},
   "outputs": [],
   "source": [
    "class LinearRegressionModel(nn.Module):\n",
    "    def __init__ (self,input_size,output_size):\n",
    "        super(LinearRegressionModel,self).__init__()\n",
    "        self.linear = nn.Linear(input_dim,output_dim)\n",
    "        \n",
    "    def forward(self,x):\n",
    "        out = self.linear(x)\n",
    "        return out\n",
    "    "
   ]
  },
  {
   "cell_type": "code",
   "execution_count": 124,
   "metadata": {},
   "outputs": [],
   "source": [
    "input_dim = 1\n",
    "output_dim = 1\n",
    "\n",
    "model = LinearRegressionModel(input_dim, output_dim)"
   ]
  },
  {
   "cell_type": "code",
   "execution_count": 125,
   "metadata": {},
   "outputs": [],
   "source": [
    "criterion = nn.MSELoss()"
   ]
  },
  {
   "cell_type": "code",
   "execution_count": 126,
   "metadata": {},
   "outputs": [],
   "source": [
    "learning_rate = 0.01\n",
    "optimizer = torch.optim.SGD(model.parameters(), lr= learning_rate)"
   ]
  },
  {
   "cell_type": "code",
   "execution_count": 127,
   "metadata": {},
   "outputs": [],
   "source": [
    "epochs = 100"
   ]
  },
  {
   "cell_type": "code",
   "execution_count": 128,
   "metadata": {},
   "outputs": [
    {
     "name": "stdout",
     "output_type": "stream",
     "text": [
      "epoch 1, loss 3218.6904296875\n",
      "epoch 2, loss 401.1357421875\n",
      "epoch 3, loss 170.56895446777344\n",
      "epoch 4, loss 151.02296447753906\n",
      "epoch 5, loss 148.69757080078125\n",
      "epoch 6, loss 147.78489685058594\n",
      "epoch 7, loss 146.99560546875\n",
      "epoch 8, loss 146.22430419921875\n",
      "epoch 9, loss 145.46238708496094\n",
      "epoch 10, loss 144.7090301513672\n",
      "epoch 11, loss 143.964111328125\n",
      "epoch 12, loss 143.22752380371094\n",
      "epoch 13, loss 142.4990692138672\n",
      "epoch 14, loss 141.77886962890625\n",
      "epoch 15, loss 141.06663513183594\n",
      "epoch 16, loss 140.36236572265625\n",
      "epoch 17, loss 139.666015625\n",
      "epoch 18, loss 138.97740173339844\n",
      "epoch 19, loss 138.29647827148438\n",
      "epoch 20, loss 137.62315368652344\n",
      "epoch 21, loss 136.95733642578125\n",
      "epoch 22, loss 136.29898071289062\n",
      "epoch 23, loss 135.64796447753906\n",
      "epoch 24, loss 135.00421142578125\n",
      "epoch 25, loss 134.36766052246094\n",
      "epoch 26, loss 133.73822021484375\n",
      "epoch 27, loss 133.11578369140625\n",
      "epoch 28, loss 132.50033569335938\n",
      "epoch 29, loss 131.89173889160156\n",
      "epoch 30, loss 131.28990173339844\n",
      "epoch 31, loss 130.69483947753906\n",
      "epoch 32, loss 130.1064453125\n",
      "epoch 33, loss 129.52456665039062\n",
      "epoch 34, loss 128.9491729736328\n",
      "epoch 35, loss 128.38021850585938\n",
      "epoch 36, loss 127.817626953125\n",
      "epoch 37, loss 127.2613525390625\n",
      "epoch 38, loss 126.71122741699219\n",
      "epoch 39, loss 126.16728210449219\n",
      "epoch 40, loss 125.6294174194336\n",
      "epoch 41, loss 125.09756469726562\n",
      "epoch 42, loss 124.57160949707031\n",
      "epoch 43, loss 124.05155944824219\n",
      "epoch 44, loss 123.5373306274414\n",
      "epoch 45, loss 123.02880859375\n",
      "epoch 46, loss 122.52597045898438\n",
      "epoch 47, loss 122.02877807617188\n",
      "epoch 48, loss 121.53710174560547\n",
      "epoch 49, loss 121.05091094970703\n",
      "epoch 50, loss 120.57018280029297\n",
      "epoch 51, loss 120.09480285644531\n",
      "epoch 52, loss 119.62474822998047\n",
      "epoch 53, loss 119.15991973876953\n",
      "epoch 54, loss 118.70028686523438\n",
      "epoch 55, loss 118.24581909179688\n",
      "epoch 56, loss 117.7963638305664\n",
      "epoch 57, loss 117.35195922851562\n",
      "epoch 58, loss 116.91255187988281\n",
      "epoch 59, loss 116.4780044555664\n",
      "epoch 60, loss 116.04833221435547\n",
      "epoch 61, loss 115.62348175048828\n",
      "epoch 62, loss 115.20332336425781\n",
      "epoch 63, loss 114.78788757324219\n",
      "epoch 64, loss 114.3770523071289\n",
      "epoch 65, loss 113.97087860107422\n",
      "epoch 66, loss 113.56918334960938\n",
      "epoch 67, loss 113.17200469970703\n",
      "epoch 68, loss 112.77920532226562\n",
      "epoch 69, loss 112.39083862304688\n",
      "epoch 70, loss 112.00682830810547\n",
      "epoch 71, loss 111.6270751953125\n",
      "epoch 72, loss 111.25155639648438\n",
      "epoch 73, loss 110.88025665283203\n",
      "epoch 74, loss 110.51309204101562\n",
      "epoch 75, loss 110.1500015258789\n",
      "epoch 76, loss 109.79100799560547\n",
      "epoch 77, loss 109.43600463867188\n",
      "epoch 78, loss 109.0849380493164\n",
      "epoch 79, loss 108.73780059814453\n",
      "epoch 80, loss 108.39460754394531\n",
      "epoch 81, loss 108.0551986694336\n",
      "epoch 82, loss 107.71953582763672\n",
      "epoch 83, loss 107.3876724243164\n",
      "epoch 84, loss 107.05950164794922\n",
      "epoch 85, loss 106.73501586914062\n",
      "epoch 86, loss 106.41411590576172\n",
      "epoch 87, loss 106.0968017578125\n",
      "epoch 88, loss 105.78303527832031\n",
      "epoch 89, loss 105.47282409667969\n",
      "epoch 90, loss 105.16608428955078\n",
      "epoch 91, loss 104.86267852783203\n",
      "epoch 92, loss 104.5627212524414\n",
      "epoch 93, loss 104.2660903930664\n",
      "epoch 94, loss 103.97278594970703\n",
      "epoch 95, loss 103.68276977539062\n",
      "epoch 96, loss 103.39595031738281\n",
      "epoch 97, loss 103.11237335205078\n",
      "epoch 98, loss 102.83193969726562\n",
      "epoch 99, loss 102.55461883544922\n",
      "epoch 100, loss 102.28044891357422\n"
     ]
    }
   ],
   "source": [
    "for epoch in range(epochs):\n",
    "    epoch +=1\n",
    "    \n",
    "    inputs = Variable(torch.from_numpy(x_train), requires_grad= True)\n",
    "    labels = Variable(torch.from_numpy(y_train))\n",
    "    \n",
    "    optimizer.zero_grad()\n",
    "    \n",
    "    outputs = model(inputs)\n",
    "    loss = criterion(outputs,labels)\n",
    "    loss.backward()\n",
    "    optimizer.step()\n",
    "    \n",
    "    print(\"epoch {}, loss {}\".format(epoch,loss.data[0]))"
   ]
  },
  {
   "cell_type": "code",
   "execution_count": 129,
   "metadata": {},
   "outputs": [
    {
     "data": {
      "text/plain": [
       "array([[  1.],\n",
       "       [  4.],\n",
       "       [  9.],\n",
       "       [ 16.],\n",
       "       [ 25.],\n",
       "       [ 36.],\n",
       "       [ 49.],\n",
       "       [ 64.],\n",
       "       [ 81.],\n",
       "       [100.],\n",
       "       [121.]], dtype=float32)"
      ]
     },
     "execution_count": 129,
     "metadata": {},
     "output_type": "execute_result"
    }
   ],
   "source": [
    "predicted = model(Variable(torch.from_numpy(x_train))).data.numpy()\n",
    "predicted\n",
    "y_train"
   ]
  },
  {
   "cell_type": "code",
   "execution_count": 130,
   "metadata": {},
   "outputs": [
    {
     "data": {
      "image/png": "[encoded data removed]",
      "text/plain": [
       "<Figure size 432x288 with 1 Axes>"
      ]
     },
     "metadata": {},
     "output_type": "display_data"
    }
   ],
   "source": [
    "plt.clf()\n",
    "predicted = model(Variable(torch.from_numpy(x_train))).data.numpy()\n",
    "plt.plot(x_train, y_train, 'go', label='True Data', alpha=0.5)\n",
    "plt.plot(x_train, predicted, '--', label='Predictions', alpha=0.5)\n",
    "plt.legend(loc='best')\n",
    "plt.show()"
   ]
  },
  {
   "cell_type": "code",
   "execution_count": null,
   "metadata": {},
   "outputs": [],
   "source": []
  }
 ],
 "metadata": {
  "kernelspec": {
   "display_name": "Python 3",
   "language": "python",
   "name": "python3"
  },
  "language_info": {
   "codemirror_mode": {
    "name": "ipython",
    "version": 3
   },
   "file_extension": ".py",
   "mimetype": "text/x-python",
   "name": "python",
   "nbconvert_exporter": "python",
   "pygments_lexer": "ipython3",
   "version": "3.5.2"
  }
 },
 "nbformat": 4,
 "nbformat_minor": 2
}
